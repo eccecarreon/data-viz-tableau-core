{
 "cells": [
  {
   "cell_type": "markdown",
   "id": "c68e7ad9-362d-42c6-b8b9-c230e5326f44",
   "metadata": {},
   "source": [
    "**Project Dashboard**\n",
    "\n",
    "For this assignment, you will make a companion Tableau Dashboard for one of your previous projects."
   ]
  },
  {
   "cell_type": "markdown",
   "id": "99b38310-1ef5-4411-aad5-82e5a8e491d1",
   "metadata": {},
   "source": [
    "Project Options\n",
    "\n",
    "You may select from one of the options below:\n",
    "\n",
    "Option 1) Project 4: Chicago Crime Dashboard\n",
    "\n",
    "Considerations:\n",
    "\n",
    "* This option will require less time to create since you’ve already prepared the data for Tableau and created visualizations for your previous core assignment.\n",
    "Select this option if you are low on time, want to practice working with geography, or if you do not feel very comfortable working with Tableau.\n",
    "\n",
    "Tips:\n",
    "\n",
    "* Either start a new Tableau workbook for this assignment or make a copy of your previous core assignment BEFORE making any changes.\n",
    "\n",
    "* To make a copy, load in your previous tableau workbook. Then on the menu select File > \"Save to Tableau Public As\" and save it as a new name.\n",
    "Since this is a large dataset, you may want to exclude some of the older years from your workbook or use filters to reduce the amount of data displayed at the same time."
   ]
  },
  {
   "cell_type": "markdown",
   "id": "fbed9cd5-bb4a-4b00-8dba-df9707cd6ff6",
   "metadata": {},
   "source": [
    "**ASSIGNMENT REQUIREMENTS:**\n",
    "\n",
    "Regardless of which option you select, the requirements are the same:\n",
    "\n",
    "* Your Dashboard must have the following:\n",
    "\n",
    "     * A main dashboard that includes at least 3 visualizations.\n",
    "     * A secondary dashboard with at least 1 visualization.\n",
    "     * Navigation buttons on both dashboards so that the viewer can jump between them.\n",
    "     * A coordinated visual style & color palette (that is not the default style).\n",
    "     * At least 1 Action filter.\n",
    "     * You must exclude at least 1 visualization from the action filter.\n",
    "     * Your full name and link to the project’s GitHub repository on the main dashboard."
   ]
  }
 ],
 "metadata": {
  "kernelspec": {
   "display_name": "Python (dojo-env)",
   "language": "python",
   "name": "dojo-env"
  },
  "language_info": {
   "codemirror_mode": {
    "name": "ipython",
    "version": 3
   },
   "file_extension": ".py",
   "mimetype": "text/x-python",
   "name": "python",
   "nbconvert_exporter": "python",
   "pygments_lexer": "ipython3",
   "version": "3.10.10"
  },
  "widgets": {
   "application/vnd.jupyter.widget-state+json": {
    "state": {},
    "version_major": 2,
    "version_minor": 0
   }
  }
 },
 "nbformat": 4,
 "nbformat_minor": 5
}
